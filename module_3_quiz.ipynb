{
 "cells": [
  {
   "cell_type": "code",
   "execution_count": 3,
   "id": "initial_id",
   "metadata": {
    "collapsed": true,
    "ExecuteTime": {
     "end_time": "2023-10-07T05:21:04.001854400Z",
     "start_time": "2023-10-07T05:21:03.996349900Z"
    }
   },
   "outputs": [
    {
     "name": "stdout",
     "output_type": "stream",
     "text": [
      "b\n"
     ]
    }
   ],
   "source": [
    "class A:\n",
    "    def a(self):\n",
    "        print('a')\n",
    "        \n",
    "class B:\n",
    "    def a(self):\n",
    "        print('b')\n",
    "\n",
    "class C(B,A): # Priority in terms of inheritance to the first Positional Parent class\n",
    "    def c(self):\n",
    "        self.a()\n",
    "\n",
    "o = C()\n",
    "o.c()"
   ]
  },
  {
   "cell_type": "code",
   "execution_count": 5,
   "outputs": [
    {
     "name": "stdout",
     "output_type": "stream",
     "text": [
      "B method\n",
      "D method\n"
     ]
    }
   ],
   "source": [
    "class A:\n",
    "    def method(self):\n",
    "        print(\"A method\")\n",
    "\n",
    "class B(A):\n",
    "    def method(self):\n",
    "        print(\"B method\")\n",
    "\n",
    "class C(A):\n",
    "    def method(self):\n",
    "        print(\"C method\")\n",
    "\n",
    "class D(B, C):\n",
    "    def method(self):\n",
    "        super().method() # goes to B searches finds a method and then prints B\n",
    "        print(\"D method\") # once finished D is made\n",
    "\n",
    "obj = D()\n",
    "obj.method()"
   ],
   "metadata": {
    "collapsed": false,
    "ExecuteTime": {
     "end_time": "2023-10-07T05:36:53.290808500Z",
     "start_time": "2023-10-07T05:36:53.280299600Z"
    }
   },
   "id": "449cbba3ef5e94c1"
  },
  {
   "cell_type": "code",
   "execution_count": 10,
   "outputs": [
    {
     "name": "stdout",
     "output_type": "stream",
     "text": [
      "ex\n"
     ]
    }
   ],
   "source": [
    "# Custom Exception \n",
    "class Ex(Exception):\n",
    "    def __init__(self, msg):\n",
    "        Exception.__init__(self, msg+msg)\n",
    "        self.args = (msg,) # remember tuples are created using (,) always the ,\n",
    "    \n",
    "try:\n",
    "    raise Ex('ex')\n",
    "except Ex as e: # we enter this code block here because we're rasing that exception\n",
    "    print(e) # ik Exception.__init__(self, msg+msg) doubles msg but self.args is only msg\n",
    "except Exception as e:\n",
    "    print(e)"
   ],
   "metadata": {
    "collapsed": false,
    "ExecuteTime": {
     "end_time": "2023-10-07T05:43:47.391461600Z",
     "start_time": "2023-10-07T05:43:47.381452600Z"
    }
   },
   "id": "ba2eaab5f857f37e"
  },
  {
   "cell_type": "code",
   "execution_count": 12,
   "outputs": [
    {
     "name": "stdout",
     "output_type": "stream",
     "text": [
      "abc"
     ]
    },
    {
     "data": {
      "text/plain": "<__main__.I at 0x18521aaf450>"
     },
     "execution_count": 12,
     "metadata": {},
     "output_type": "execute_result"
    }
   ],
   "source": [
    "class I:\n",
    "    def __init__(self):\n",
    "        self.s = 'abc'\n",
    "        self.i = 0 \n",
    "        \n",
    "    def __iter__(self): # making the class iterable \n",
    "        return self \n",
    "    \n",
    "    def __next__(self): # defining what happens during the iteration process \n",
    "        if self.i == len(self.s):\n",
    "            raise StopIteration  # break / ending iteration\n",
    "        v = self.s[self.i] # looping over abc\n",
    "        self.i += 1 # counter \n",
    "        return v # returning letters of abc \n",
    "    \n",
    "for x in I():\n",
    "    print(x, end='') # printing abc \n",
    "\n"
   ],
   "metadata": {
    "collapsed": false,
    "ExecuteTime": {
     "end_time": "2023-10-07T05:48:07.162606300Z",
     "start_time": "2023-10-07T05:48:07.153098500Z"
    }
   },
   "id": "34049fd68f1c57c7"
  },
  {
   "cell_type": "code",
   "execution_count": 13,
   "outputs": [
    {
     "ename": "TypeError",
     "evalue": "A.__init__() takes 1 positional argument but 2 were given",
     "output_type": "error",
     "traceback": [
      "\u001B[1;31m---------------------------------------------------------------------------\u001B[0m",
      "\u001B[1;31mTypeError\u001B[0m                                 Traceback (most recent call last)",
      "Cell \u001B[1;32mIn[13], line 6\u001B[0m\n\u001B[0;32m      2\u001B[0m     \u001B[38;5;28;01mdef\u001B[39;00m \u001B[38;5;21m__init__\u001B[39m(\u001B[38;5;28mself\u001B[39m):\n\u001B[0;32m      3\u001B[0m         \u001B[38;5;28;01mpass\u001B[39;00m\n\u001B[1;32m----> 6\u001B[0m a \u001B[38;5;241m=\u001B[39m \u001B[43mA\u001B[49m\u001B[43m(\u001B[49m\u001B[38;5;241;43m1\u001B[39;49m\u001B[43m)\u001B[49m\n",
      "\u001B[1;31mTypeError\u001B[0m: A.__init__() takes 1 positional argument but 2 were given"
     ]
    }
   ],
   "source": [
    "class A:\n",
    "    def __init__(self):\n",
    "        pass\n",
    "    \n",
    "\n",
    "a = A(1) # err\n"
   ],
   "metadata": {
    "collapsed": false,
    "ExecuteTime": {
     "end_time": "2023-10-07T05:56:17.198906400Z",
     "start_time": "2023-10-07T05:56:16.278489600Z"
    }
   },
   "id": "cb91107862946878"
  },
  {
   "cell_type": "code",
   "execution_count": null,
   "outputs": [],
   "source": [],
   "metadata": {
    "collapsed": false
   },
   "id": "c7f58d52c47e8324"
  }
 ],
 "metadata": {
  "kernelspec": {
   "display_name": "Python 3",
   "language": "python",
   "name": "python3"
  },
  "language_info": {
   "codemirror_mode": {
    "name": "ipython",
    "version": 2
   },
   "file_extension": ".py",
   "mimetype": "text/x-python",
   "name": "python",
   "nbconvert_exporter": "python",
   "pygments_lexer": "ipython2",
   "version": "2.7.6"
  }
 },
 "nbformat": 4,
 "nbformat_minor": 5
}
