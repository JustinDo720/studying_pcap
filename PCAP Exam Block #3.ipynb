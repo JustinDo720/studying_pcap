{
 "cells": [
  {
   "cell_type": "markdown",
   "source": [
    "### Exam Block #3 - Strings\n",
    "- First Attempt: 94% **passed**"
   ],
   "metadata": {
    "collapsed": false
   },
   "id": "49a1231a2272549a"
  },
  {
   "cell_type": "code",
   "execution_count": 7,
   "outputs": [
    {
     "data": {
      "text/plain": "-1"
     },
     "execution_count": 7,
     "metadata": {},
     "output_type": "execute_result"
    }
   ],
   "source": [
    "# rfind() and index()\n",
    "\n",
    "our_str = \"Arkham Knight\"\n",
    "\n",
    "our_str.index('ha') # returns the index where the substring is located (raise ValueError if doesnt exist)\n",
    "\n",
    "our_str.rfind('kn') # that means the space is at index six (will return -1 if doesnt exist)"
   ],
   "metadata": {
    "collapsed": false,
    "ExecuteTime": {
     "end_time": "2023-10-12T06:57:12.635570400Z",
     "start_time": "2023-10-12T06:57:12.625061700Z"
    }
   },
   "id": "aea98d33ff07028d"
  },
  {
   "cell_type": "markdown",
   "source": [
    "### Notes on things that I had right\n",
    "\n",
    "ASCII & Unicode \n",
    "- both encodings but have common codepoints \n",
    "- codepoints is a number that corresponds to a character (32 is a space) \n",
    "\n",
    "---\n",
    "\n",
    "ord()\n",
    "- ASCII alphabetic codepoints are the same as our alphabet so `chr(ord('k') + 2) == 'm'`\n",
    "- **LOWERCASE LETTER CODEPOINTS** are <u>GREATER</u> than uppercase counterparts\n",
    "- The distance between codepoints upper and lower will always be a space\n",
    "    - `ord('x') - ord('X') == ord('x ')`\n",
    "\n",
    "--- \n",
    "\n",
    "Strings are **immutable** \n",
    "- meaning you can't set string_var[index] = val \n",
    "- however\n",
    "    - we could string_var = string_var[slice] or string_var[index]  \n",
    "\n",
    "---\n",
    "\n",
    "String Slice Skip \n",
    "When skipping, it will stop and include on the skip \n",
    "`'AXBYCZ'[::2]` starts on A (inclusive) skips to B (inclusive) skips to c (inclusive)\n",
    "\n",
    "---\n",
    "\n",
    "Empty String\n",
    "- An empty string `''` will be treated as an invisible part of every string \n",
    "- Thats why `\"\" in \"alphabet\"` is True\n",
    "\n",
    "---\n",
    "\n",
    "Comparing String Values \n",
    "- It evaluates string values based on the content \n",
    "    - '998' < '999' --> True\n",
    "        - 8 is less than 9 \n",
    "    - 'Ju'*2 <= 'Jus' --> True\n",
    "        -   the last letter (of the last amount of letters; in this case the 's' in Jus) comes after the J in JuJu\n",
    "\n",
    "---\n",
    "\n",
    "You can string a None\n",
    "`str(None)`\n",
    "\n",
    "---\n",
    "\n"
   ],
   "metadata": {
    "collapsed": false
   },
   "id": "ea2b58d514880d82"
  },
  {
   "cell_type": "code",
   "execution_count": null,
   "outputs": [],
   "source": [],
   "metadata": {
    "collapsed": false
   },
   "id": "ab0769c645efab2"
  },
  {
   "cell_type": "code",
   "execution_count": 22,
   "outputs": [],
   "source": [],
   "metadata": {
    "collapsed": false,
    "ExecuteTime": {
     "end_time": "2023-10-12T07:21:09.048433900Z",
     "start_time": "2023-10-12T07:21:09.033919100Z"
    }
   },
   "id": "f050ab61c5dfaab"
  },
  {
   "cell_type": "code",
   "execution_count": null,
   "outputs": [],
   "source": [],
   "metadata": {
    "collapsed": false
   },
   "id": "9d2bbfe0c75f041f"
  }
 ],
 "metadata": {
  "kernelspec": {
   "display_name": "Python 3",
   "language": "python",
   "name": "python3"
  },
  "language_info": {
   "codemirror_mode": {
    "name": "ipython",
    "version": 2
   },
   "file_extension": ".py",
   "mimetype": "text/x-python",
   "name": "python",
   "nbconvert_exporter": "python",
   "pygments_lexer": "ipython2",
   "version": "2.7.6"
  }
 },
 "nbformat": 4,
 "nbformat_minor": 5
}
