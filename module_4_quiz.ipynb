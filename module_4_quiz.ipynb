{
 "cells": [
  {
   "cell_type": "code",
   "execution_count": 2,
   "id": "initial_id",
   "metadata": {
    "collapsed": true,
    "ExecuteTime": {
     "end_time": "2023-10-07T06:26:43.343553200Z",
     "start_time": "2023-10-07T06:26:43.328039900Z"
    }
   },
   "outputs": [
    {
     "name": "stdout",
     "output_type": "stream",
     "text": [
      "19/November/27 11:27:22\n"
     ]
    }
   ],
   "source": [
    "from datetime import datetime \n",
    "\n",
    "datetime = datetime(2019, 11, 27, 11, 27, 22) # y, m, day, hr, min, sec\n",
    "print(datetime.strftime('%y/%B/%d %H:%M:%S')) # B is full month"
   ]
  },
  {
   "cell_type": "markdown",
   "source": [
    "### errno \n",
    "\n",
    "```python\n",
    "import errno\n",
    "import os  \n",
    "\n",
    "try: \n",
    "    os.mkdir('my_dir')\n",
    "except OSError as e:\n",
    "    if e.errno == errno.EEXIST:\n",
    "        print(\"File Exists\")\n",
    "```\n",
    "\n",
    "Errno.EEXIST saids that a file **does exist**"
   ],
   "metadata": {
    "collapsed": false
   },
   "id": "6572990a9b1f7bfc"
  },
  {
   "cell_type": "code",
   "execution_count": 4,
   "outputs": [
    {
     "name": "stdout",
     "output_type": "stream",
     "text": [
      "ace\n"
     ]
    }
   ],
   "source": [
    "s = 'abcdef'\n",
    "print(s[::2]) # starts a 0 skips two and lands on c skips two and lands on e"
   ],
   "metadata": {
    "collapsed": false,
    "ExecuteTime": {
     "end_time": "2023-10-07T06:29:00.937267500Z",
     "start_time": "2023-10-07T06:29:00.925757100Z"
    }
   },
   "id": "3f464feb203529c8"
  },
  {
   "cell_type": "markdown",
   "source": [
    "### Directories \n",
    "\n",
    "`os.chdir('../')` just goes back <u>ONE</u> directory not the root if you want to go back to root you would just `os.chdir('/')`\n",
    "\n",
    "these could all be seen using `os.getcwd()`"
   ],
   "metadata": {
    "collapsed": false
   },
   "id": "e0ce5c8fdf1e9ee7"
  },
  {
   "cell_type": "markdown",
   "source": [
    "### Reading Operations \n",
    "\n",
    "- r mode lets us read \n",
    "- r+ lets us read and write \n",
    "\n",
    "Therefore the two operations to read is r and r+"
   ],
   "metadata": {
    "collapsed": false
   },
   "id": "d8493909cdcf70a8"
  },
  {
   "cell_type": "code",
   "execution_count": 7,
   "outputs": [
    {
     "name": "stdout",
     "output_type": "stream",
     "text": [
      "345 days, 0:00:00\n"
     ]
    }
   ],
   "source": [
    "from datetime import date \n",
    "\n",
    "d1 = date(1992, 1, 16)\n",
    "d2 = date(1991, 2, 5)\n",
    "\n",
    "print(d1-d2) # gives you \"days\" and also the time delimited by comma"
   ],
   "metadata": {
    "collapsed": false,
    "ExecuteTime": {
     "end_time": "2023-10-07T06:34:12.473564400Z",
     "start_time": "2023-10-07T06:34:12.465557300Z"
    }
   },
   "id": "934a36257044b8e3"
  },
  {
   "cell_type": "code",
   "execution_count": 12,
   "outputs": [
    {
     "name": "stdout",
     "output_type": "stream",
     "text": [
      "Mo Tu We Th Fr Sa Su\n"
     ]
    }
   ],
   "source": [
    "import calendar\n",
    "\n",
    "print(calendar.weekheader(2)) # required width (how many letters you want to display?"
   ],
   "metadata": {
    "collapsed": false,
    "ExecuteTime": {
     "end_time": "2023-10-07T06:35:15.933560900Z",
     "start_time": "2023-10-07T06:35:15.921049400Z"
    }
   },
   "id": "73cee643a7b161dc"
  },
  {
   "cell_type": "code",
   "execution_count": 22,
   "outputs": [
    {
     "name": "stdout",
     "output_type": "stream",
     "text": [
      "++,++++,"
     ]
    }
   ],
   "source": [
    "def fun(n):\n",
    "    s= '+'\n",
    "    \n",
    "    # in the first iteration s becomes \"++\"\n",
    "    # in the second iteration s becomes \"++++\" because youre adding s (++) to the current s (++)\n",
    "    for i in range(n):\n",
    "        s += s\n",
    "        yield s \n",
    "\n",
    "for x in fun(2):\n",
    "    print(x, end=\",\")"
   ],
   "metadata": {
    "collapsed": false,
    "ExecuteTime": {
     "end_time": "2023-10-07T06:44:40.169058Z",
     "start_time": "2023-10-07T06:44:40.153044300Z"
    }
   },
   "id": "a6b5cc575011b2d6"
  },
  {
   "cell_type": "code",
   "execution_count": 23,
   "outputs": [
    {
     "name": "stdout",
     "output_type": "stream",
     "text": [
      "0 1 2 3 4 5 6 "
     ]
    }
   ],
   "source": [
    "import calendar \n",
    "c = calendar.Calendar() \n",
    "\n",
    "for weekday in c.iterweekdays(): # c.iterweekdays is a function that turns the day of the week in number format starting at 0 \n",
    "    print(weekday, end=\" \")"
   ],
   "metadata": {
    "collapsed": false,
    "ExecuteTime": {
     "end_time": "2023-10-07T06:45:33.938720500Z",
     "start_time": "2023-10-07T06:45:33.920204600Z"
    }
   },
   "id": "532b121108394502"
  },
  {
   "cell_type": "code",
   "execution_count": null,
   "outputs": [],
   "source": [],
   "metadata": {
    "collapsed": false
   },
   "id": "620862cd92ff7c7"
  }
 ],
 "metadata": {
  "kernelspec": {
   "display_name": "Python 3",
   "language": "python",
   "name": "python3"
  },
  "language_info": {
   "codemirror_mode": {
    "name": "ipython",
    "version": 2
   },
   "file_extension": ".py",
   "mimetype": "text/x-python",
   "name": "python",
   "nbconvert_exporter": "python",
   "pygments_lexer": "ipython2",
   "version": "2.7.6"
  }
 },
 "nbformat": 4,
 "nbformat_minor": 5
}
