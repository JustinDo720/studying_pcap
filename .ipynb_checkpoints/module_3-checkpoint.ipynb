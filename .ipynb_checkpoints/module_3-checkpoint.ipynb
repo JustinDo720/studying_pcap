{
 "cells": [
  {
   "cell_type": "markdown",
   "metadata": {
    "collapsed": false,
    "jupyter": {
     "outputs_hidden": false
    },
    "pycharm": {
     "name": "#%% md\n"
    }
   },
   "source": [
    "## Studying OOP for Module 3\n",
    "\n",
    "---"
   ]
  },
  {
   "cell_type": "markdown",
   "metadata": {
    "collapsed": false,
    "jupyter": {
     "outputs_hidden": false
    },
    "pycharm": {
     "name": "#%% md\n"
    }
   },
   "source": [
    "### Notes\n",
    "- Object = Traits (prop or attr) perform set of activities (method)\n",
    "    - Name, Set or Properties, abilities to perform activities\n",
    "- specialized classes = subclasses\n",
    "    - Broad classes are superclass\n",
    "- class = set of objects & objs are instances of the class\n",
    "- the existence of a class does not mean that any of the compatible objects will automatically be created."
   ]
  },
  {
   "cell_type": "markdown",
   "metadata": {
    "collapsed": false,
    "jupyter": {
     "outputs_hidden": false
    },
    "pycharm": {
     "name": "#%% md\n"
    }
   },
   "source": [
    "### Interesting things\n",
    "- classes reflect real facts, relationship and circumstances\n",
    "\n",
    "> \"Rudolph is a large cat who sleeps all day.\"\n",
    "    - Rudolph - object\n",
    "    - cat - class\n",
    "    - property - large\n",
    "    - activity - sleeps"
   ]
  },
  {
   "cell_type": "markdown",
   "metadata": {
    "collapsed": false,
    "jupyter": {
     "outputs_hidden": false
    },
    "pycharm": {
     "name": "#%% md\n"
    }
   },
   "source": [
    "## Inheritance\n",
    "\n",
    "**Object bound to specific lvl of hierarchy inherits all traits**\n",
    "\n",
    "- This includes all requirements and qualities\n",
    "\n"
   ]
  },
  {
   "cell_type": "code",
   "execution_count": null,
   "metadata": {
    "collapsed": false,
    "jupyter": {
     "outputs_hidden": false
    },
    "pycharm": {
     "name": "#%%\n"
    }
   },
   "outputs": [],
   "source": [
    "class Simple:\n",
    "    pass\n",
    "\n",
    "my_obj = Simple() # instantiation - obj becomes an instance of the class"
   ]
  },
  {
   "cell_type": "markdown",
   "metadata": {
    "collapsed": false,
    "jupyter": {
     "outputs_hidden": false
    },
    "pycharm": {
     "name": "#%% md\n"
    }
   },
   "source": [
    "## Stack\n",
    "\n",
    "**A stack is a structure devleoped to store data in a very specific way**\n",
    "\n",
    "Look at a stack of coins\n",
    "- It's *Last in First out* **(LIFO)** the only place you could put a new coin is on top\n",
    "- therefore you push then pop\n",
    "- The coin that <u>came last</u> onto the stack will <u>leave first</u>.\n",
    "\n",
    "Stacks deal with push (elements to the top of the stack) and pop (element taken from the top)"
   ]
  },
  {
   "cell_type": "code",
   "execution_count": null,
   "metadata": {
    "collapsed": false,
    "jupyter": {
     "outputs_hidden": false
    },
    "pycharm": {
     "name": "#%%\n"
    }
   },
   "outputs": [],
   "source": [
    "# Procedural Stack\n",
    "stack = []\n",
    "\n",
    "def push(val):\n",
    "    stack.append(val)\n",
    "\n",
    "def pop():\n",
    "    val = stack[-1]\n",
    "    del stack[-1]\n",
    "    return val\n",
    "\n",
    "for i in range(3):\n",
    "    push(i)\n",
    "\n",
    "print(pop())"
   ]
  },
  {
   "cell_type": "code",
   "execution_count": null,
   "metadata": {
    "collapsed": false,
    "jupyter": {
     "outputs_hidden": false
    },
    "pycharm": {
     "name": "#%%\n"
    }
   },
   "outputs": [],
   "source": [
    "new_list = [1,2,3,4]\n",
    "new_list.pop()\n",
    "print(new_list)"
   ]
  },
  {
   "cell_type": "code",
   "execution_count": null,
   "metadata": {},
   "outputs": [],
   "source": []
  }
 ],
 "metadata": {
  "kernelspec": {
   "display_name": "Python 3 (ipykernel)",
   "language": "python",
   "name": "python3"
  },
  "language_info": {
   "codemirror_mode": {
    "name": "ipython",
    "version": 3
   },
   "file_extension": ".py",
   "mimetype": "text/x-python",
   "name": "python",
   "nbconvert_exporter": "python",
   "pygments_lexer": "ipython3",
   "version": "3.11.4"
  }
 },
 "nbformat": 4,
 "nbformat_minor": 4
}