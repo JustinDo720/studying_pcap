{
 "cells": [
  {
   "cell_type": "markdown",
   "metadata": {
    "collapsed": false,
    "pycharm": {
     "name": "#%% md\n"
    }
   },
   "source": [
    "## Studying OOP for Module 3\n",
    "\n",
    "---"
   ]
  },
  {
   "cell_type": "markdown",
   "metadata": {
    "collapsed": false,
    "pycharm": {
     "name": "#%% md\n"
    }
   },
   "source": [
    "### Notes\n",
    "\n",
    "- Object = Traits (prop or attr) perform set of activities (method)\n",
    "    - Name, Set or Properties, abilities to perform activities\n",
    "- specialized classes = subclasses\n",
    "    - Broad classes are superclass\n",
    "- class = set of objects & objs are instances of the class\n",
    "- the existence of a class does not mean that any of the compatible objects will automatically be created.\n",
    "- Constructor responsible for creating new objects using the `__init__` command\n",
    "- Stacks are a data structure that has a **Last in First out** think of a coin stack. A coin cannot be placed at the bottom but is the first to be taking in\n",
    "    - uses `push` and `pop`   \n",
    "- Using `__dict__` to see all the instance variables which are properties / attributes (excluding class variables) \n",
    "- `hasattr(class/object, attr_to_search)` helps us see if the attribute exists\n",
    "- all classes have `__name__` property and `__module__` there's also `__bases__` to see the superclasses\n",
    "- `__str__(self)` lets you return a readable string \n",
    "- `issubclass(Class_1, Class_2)` will let us know if class_1 is the subclass of super class Class_2 returning True | False\n",
    "- `super()` refers to the nearest superclass \n",
    "- Methods, Class & Instance Variables are *automatically inherited* by the subclass \n",
    "- Overrides happen in subclass with same Method, Class & Instance var\n",
    "- Else branch of Try block when there is NO exception during execution \n",
    "- Finally branch **ALWAYS** executes\n",
    "- `except Exception_Name as an exception_obj` intercept obj carrying info \n",
    "    - obj property named args is a **tuple that stores all arguments passed** "
   ]
  },
  {
   "cell_type": "markdown",
   "metadata": {
    "collapsed": false,
    "pycharm": {
     "name": "#%% md\n"
    }
   },
   "source": [
    "### Interesting things\n",
    "\n",
    "- classes reflect real facts, relationship and circumstances\n",
    "\n",
    "> \"Rudolph is a large cat who sleeps all day.\"\n",
    "    - Rudolph - object\n",
    "    - cat - class\n",
    "    - property - large\n",
    "    - activity - sleeps\n",
    "\n",
    "- If we want to hide components, use `__` before a variable/attribute to make it **private**\n",
    "- Class parameters always have self as one initial parameter\n",
    "- Private instance vars that start with __ cannot be accessed directly; however, due to mangled name we could access priv var using `object._Classname__privateattrname`\n",
    "- **is** operator checks if the two objects are the same \n",
    "- math.pow(base, expo) if supplied base only raises TypeError"
   ]
  },
  {
   "cell_type": "markdown",
   "metadata": {
    "collapsed": false,
    "pycharm": {
     "name": "#%% md\n"
    }
   },
   "source": [
    "## Inheritance\n",
    "\n",
    "**Object bound to specific lvl of hierarchy inherits all traits**\n",
    "\n",
    "- This includes all requirements and qualities\n",
    "\n"
   ]
  },
  {
   "cell_type": "code",
   "execution_count": 1,
   "metadata": {
    "collapsed": false,
    "pycharm": {
     "name": "#%%\n"
    }
   },
   "outputs": [],
   "source": [
    "class Simple:\n",
    "    pass\n",
    "\n",
    "my_obj = Simple() # instantiation - obj becomes an instance of the class"
   ]
  },
  {
   "cell_type": "markdown",
   "metadata": {
    "collapsed": false,
    "pycharm": {
     "name": "#%% md\n"
    }
   },
   "source": [
    "## Stack\n",
    "\n",
    "**A stack is a structure devleoped to store data in a very specific way**\n",
    "\n",
    "Look at a stack of coins\n",
    "- It's *Last in First out* **(LIFO)** the only place you could put a new coin is on top\n",
    "- therefore you push then pop\n",
    "- The coin that <u>came last</u> onto the stack will <u>leave first</u>.\n",
    "\n",
    "Stacks deal with push (elements to the top of the stack) and pop (element taken from the top)"
   ]
  },
  {
   "cell_type": "code",
   "execution_count": 2,
   "metadata": {
    "collapsed": false,
    "pycharm": {
     "name": "#%%\n"
    }
   },
   "outputs": [
    {
     "name": "stdout",
     "output_type": "stream",
     "text": [
      "2\n"
     ]
    }
   ],
   "source": [
    "# Procedural Stack\n",
    "stack = []\n",
    "\n",
    "def push(val):\n",
    "    stack.append(val)\n",
    "\n",
    "def pop():\n",
    "    val = stack[-1]\n",
    "    del stack[-1]\n",
    "    return val\n",
    "\n",
    "for i in range(3):\n",
    "    push(i)\n",
    "\n",
    "print(pop(), stack)"
   ]
  },
  {
   "cell_type": "code",
   "execution_count": 7,
   "metadata": {
    "collapsed": false,
    "pycharm": {
     "name": "#%%\n"
    },
    "ExecuteTime": {
     "end_time": "2023-10-06T14:16:46.198942Z",
     "start_time": "2023-10-06T14:16:46.184429100Z"
    }
   },
   "outputs": [
    {
     "name": "stdout",
     "output_type": "stream",
     "text": [
      "1\n"
     ]
    }
   ],
   "source": [
    "# Object Stack\n",
    "\n",
    "class Stack:\n",
    "    def __init__(self):\n",
    "        self.__stack_list = [] # note that if we put __ before a component that will be private meaning we'll get an attribute error if we manually check for the attribute using dot notation \n",
    "        \n",
    "    def push(self, val):\n",
    "        self.__stack_list.append(val)\n",
    "        \n",
    "    def pop(self):\n",
    "        last_item = self.__stack_list[-1]\n",
    "        del self.__stack_list[-1]\n",
    "        return last_item\n",
    "\n",
    "\n",
    "# instantiation of Stack class \n",
    "stack_obj = Stack() \n",
    "stack_obj.push(10)\n",
    "stack_obj.push(20)\n",
    "stack_obj.push(1)\n",
    "\n",
    "print(stack_obj.pop()) # this is the last in first out that stack is known for (since 1 was the last in it comes out first"
   ]
  },
  {
   "cell_type": "code",
   "execution_count": 8,
   "outputs": [],
   "source": [
    "# Let's talk about subclasses (child class) and inheritance \n",
    "class AddingStack(Stack):\n",
    "    def __init__(self):\n",
    "        Stack.__init__(self) # invoke super class's constructor\n",
    "        self.__sum = 0 "
   ],
   "metadata": {
    "collapsed": false,
    "ExecuteTime": {
     "end_time": "2023-10-06T14:26:11.053154100Z",
     "start_time": "2023-10-06T14:26:11.048649900Z"
    }
   }
  },
  {
   "cell_type": "markdown",
   "source": [
    "### Why do we need to invoke the super class's constructor?\n",
    "\n",
    "**we could change the functionality without changing the name of our functions**"
   ],
   "metadata": {
    "collapsed": false
   }
  },
  {
   "cell_type": "code",
   "execution_count": 11,
   "outputs": [],
   "source": [
    "# Let's talk about subclasses (child class) and inheritance \n",
    "class AddingStack(Stack):\n",
    "    def __init__(self):\n",
    "        Stack.__init__(self) # invoke super class's constructor\n",
    "        self.__sum = 0 \n",
    "    \n",
    "    def push(self, val):\n",
    "        self.__sum += val \n",
    "        Stack.push(self, val)\n",
    "        \n",
    "    def pop(self):\n",
    "        val = Stack.pop(self)\n",
    "        self.__sum -= val \n",
    "        return val \n",
    "    \n",
    "    def get_sum(self):\n",
    "        return self.__sum\n"
   ],
   "metadata": {
    "collapsed": false,
    "ExecuteTime": {
     "end_time": "2023-10-06T14:29:19.244740200Z",
     "start_time": "2023-10-06T14:29:19.227724300Z"
    }
   }
  },
  {
   "cell_type": "code",
   "execution_count": 13,
   "outputs": [
    {
     "name": "stdout",
     "output_type": "stream",
     "text": [
      "10\n"
     ]
    }
   ],
   "source": [
    "# using our adding stack class \n",
    "stack_object = AddingStack()\n",
    "for i in range(5):\n",
    "    stack_object.push(i)    # will put 0-4 to our STACK parent class while also adding them all up to our sum private variable \n",
    "    \n",
    "print(stack_object.get_sum())"
   ],
   "metadata": {
    "collapsed": false,
    "ExecuteTime": {
     "end_time": "2023-10-06T14:30:42.270045800Z",
     "start_time": "2023-10-06T14:30:42.253029700Z"
    }
   }
  },
  {
   "cell_type": "code",
   "execution_count": 14,
   "outputs": [
    {
     "name": "stdout",
     "output_type": "stream",
     "text": [
      "4\n",
      "3\n",
      "2\n",
      "1\n",
      "0\n"
     ]
    }
   ],
   "source": [
    "# heres the interesting part with pop... since we're popping from Stack parent class we're working with it's private variable \n",
    "\n",
    "for i in range(5):\n",
    "    print(stack_object.pop())"
   ],
   "metadata": {
    "collapsed": false,
    "ExecuteTime": {
     "end_time": "2023-10-06T14:34:22.073200800Z",
     "start_time": "2023-10-06T14:34:22.059433200Z"
    }
   }
  },
  {
   "cell_type": "markdown",
   "source": [
    "### Here's the thing\n",
    "\n",
    "Instead of invoking the class constructor like\n",
    "``` python\n",
    "def __init__(self):\n",
    "    SuperClassName.__init__(self)\n",
    "    # we could just use super instead\n",
    "    # super().__init__()\n",
    "\n",
    "def push(self, val):\n",
    "    SuperClassName.push(val) \n",
    "    # we could just do \n",
    "    # super().push(val)\n",
    "```"
   ],
   "metadata": {
    "collapsed": false
   }
  },
  {
   "cell_type": "markdown",
   "source": [
    "### Instance Variables \n",
    "\n",
    "We know that constructors are used when creating new objects with the `__init__` but any property can be created and removed at any time \n",
    "\n",
    "Instance variable tells us that theyre more connected to the object rather than a class"
   ],
   "metadata": {
    "collapsed": false
   }
  },
  {
   "cell_type": "code",
   "execution_count": 15,
   "outputs": [],
   "source": [
    "class Example:\n",
    "    # creating our constructor \n",
    "    def __init__(self, val=1):\n",
    "        self.first = val\n",
    "        \n",
    "    def set_second(self, val):\n",
    "        self.second = val "
   ],
   "metadata": {
    "collapsed": false,
    "ExecuteTime": {
     "end_time": "2023-10-06T15:17:23.140544800Z",
     "start_time": "2023-10-06T15:17:23.115522900Z"
    }
   }
  },
  {
   "cell_type": "code",
   "execution_count": 16,
   "outputs": [
    {
     "name": "stdout",
     "output_type": "stream",
     "text": [
      "{'first': 1}\n",
      "{'first': 2, 'second': 3}\n"
     ]
    }
   ],
   "source": [
    "ex_obj1 = Example()\n",
    "ex_obj2 = Example(2)\n",
    "\n",
    "ex_obj2.set_second(3) # creating an instance variable \n",
    "print(ex_obj1.__dict__)\n",
    "print(ex_obj2.__dict__) # python objects are given predef prop and methods"
   ],
   "metadata": {
    "collapsed": false,
    "ExecuteTime": {
     "end_time": "2023-10-06T15:19:38.853229200Z",
     "start_time": "2023-10-06T15:19:38.808691300Z"
    }
   }
  },
  {
   "cell_type": "code",
   "execution_count": 17,
   "outputs": [
    {
     "name": "stdout",
     "output_type": "stream",
     "text": [
      "{'first': 4, 'third': 5}\n"
     ]
    }
   ],
   "source": [
    "ex_obj3 = Example(4)\n",
    "ex_obj3.third = 5 # creating an instance variable with dot method\n",
    "print(ex_obj3.__dict__) "
   ],
   "metadata": {
    "collapsed": false,
    "ExecuteTime": {
     "end_time": "2023-10-06T15:21:24.831466500Z",
     "start_time": "2023-10-06T15:21:24.808444900Z"
    }
   }
  },
  {
   "cell_type": "markdown",
   "source": [
    "### to recap we could create an instance variable (var not set by constructor) in two ways\n",
    "- Creating a method that sets `self.var = val`\n",
    "- Using dot method to set it `class_obj.var = val`"
   ],
   "metadata": {
    "collapsed": false
   }
  },
  {
   "cell_type": "code",
   "execution_count": 18,
   "outputs": [
    {
     "name": "stdout",
     "output_type": "stream",
     "text": [
      "{'_PrivEx__first': 5, '_PrivEx__second': 10}\n"
     ]
    }
   ],
   "source": [
    "# Making a private instance variable\n",
    "class PrivEx:\n",
    "    def __init__(self, val):\n",
    "        self.__first = val\n",
    "    \n",
    "    def add_second(self, val):\n",
    "        self.__second = val \n",
    "        \n",
    "\n",
    "ex1 = PrivEx(5)\n",
    "ex1.add_second(10)\n",
    "print(ex1.__dict__)"
   ],
   "metadata": {
    "collapsed": false,
    "ExecuteTime": {
     "end_time": "2023-10-06T15:30:28.581939700Z",
     "start_time": "2023-10-06T15:30:28.563424300Z"
    }
   }
  },
  {
   "cell_type": "code",
   "execution_count": 20,
   "outputs": [
    {
     "name": "stdout",
     "output_type": "stream",
     "text": [
      "5\n"
     ]
    }
   ],
   "source": [
    "# ex1.__first wont work (attribute error) but ex1._PrivEx__first does\n",
    "print(ex1._PrivEx__first)"
   ],
   "metadata": {
    "collapsed": false,
    "ExecuteTime": {
     "end_time": "2023-10-06T15:31:50.898044Z",
     "start_time": "2023-10-06T15:31:50.889036Z"
    }
   }
  },
  {
   "cell_type": "markdown",
   "source": [
    "### What are class variables?\n",
    "\n",
    "Poprety that exist in just one copy and stored outside any object"
   ],
   "metadata": {
    "collapsed": false
   }
  },
  {
   "cell_type": "code",
   "execution_count": 21,
   "outputs": [],
   "source": [
    "class ExampleClass:\n",
    "    counter = 0\n",
    "    def __init__(self, val = 1):\n",
    "        self.__first = val\n",
    "        ExampleClass.counter += 1 # accessing class variables\n",
    "\n",
    "example_object_1 = ExampleClass()\n",
    "example_object_2 = ExampleClass(2)\n",
    "example_object_3 = ExampleClass(4)"
   ],
   "metadata": {
    "collapsed": false,
    "ExecuteTime": {
     "end_time": "2023-10-06T15:55:51.067035100Z",
     "start_time": "2023-10-06T15:55:51.052522800Z"
    }
   }
  },
  {
   "cell_type": "code",
   "execution_count": 22,
   "outputs": [
    {
     "name": "stdout",
     "output_type": "stream",
     "text": [
      "{'_ExampleClass__first': 1} 3\n"
     ]
    }
   ],
   "source": [
    "print(example_object_1.__dict__, example_object_1.counter)"
   ],
   "metadata": {
    "collapsed": false,
    "ExecuteTime": {
     "end_time": "2023-10-06T15:55:56.601393200Z",
     "start_time": "2023-10-06T15:55:56.585880Z"
    }
   }
  },
  {
   "cell_type": "code",
   "execution_count": 23,
   "outputs": [
    {
     "name": "stdout",
     "output_type": "stream",
     "text": [
      "{'_ExampleClass__first': 10} 4\n"
     ]
    }
   ],
   "source": [
    "example_object_4 = ExampleClass(10)\n",
    "print(example_object_4.__dict__, example_object_4.counter) # always presents the same value"
   ],
   "metadata": {
    "collapsed": false,
    "ExecuteTime": {
     "end_time": "2023-10-06T15:56:46.497609600Z",
     "start_time": "2023-10-06T15:56:46.483597600Z"
    }
   }
  },
  {
   "cell_type": "markdown",
   "source": [
    "### Attributes existence?\n",
    "\n",
    "If the class does not have an attribute we get an AttributeError and using a try except would end up hiding everything soo..\n",
    "\n",
    "we need to use `hasattr`\n",
    "\n",
    "``` python\n",
    "class ExampleClass:\n",
    "    def __init__(self, val):\n",
    "        if val % 2 != 0:\n",
    "            self.a = 1\n",
    "        else:\n",
    "            self.b = 1\n",
    "\n",
    "\n",
    "example_object = ExampleClass(1)\n",
    "print(example_object.a)\n",
    "\n",
    "if hasattr(example_object, 'b'):\n",
    "    print(example_object.b)\n",
    "```"
   ],
   "metadata": {
    "collapsed": false
   }
  },
  {
   "cell_type": "code",
   "execution_count": 28,
   "outputs": [
    {
     "name": "stdout",
     "output_type": "stream",
     "text": [
      "True\n",
      "False\n",
      "True\n",
      "True\n"
     ]
    }
   ],
   "source": [
    "# Aside from checking obejcts... hasattr also works with classes \n",
    "class NewExample:\n",
    "    attr = 1 # class variable\n",
    "    def __init__(self):\n",
    "        self.prop = 2 # instance variable\n",
    "    \n",
    "print(hasattr(NewExample, 'attr')) # true since its a class variable \n",
    "print(hasattr(NewExample, 'prop')) # false because we have an instance variable \n",
    "new_obj = NewExample()\n",
    "print(hasattr(new_obj, 'attr')) # true since our object has the class variable (new_obj.attr)\n",
    "print(hasattr(new_obj, 'prop')) # true because the constructor responsible for creating new objects has a prop attribute "
   ],
   "metadata": {
    "collapsed": false,
    "ExecuteTime": {
     "end_time": "2023-10-06T16:12:27.619727300Z",
     "start_time": "2023-10-06T16:12:27.603713500Z"
    }
   }
  },
  {
   "cell_type": "markdown",
   "source": [
    "### Let's talk about super and inheritance priority "
   ],
   "metadata": {
    "collapsed": false
   }
  },
  {
   "cell_type": "code",
   "execution_count": 34,
   "outputs": [
    {
     "name": "stdout",
     "output_type": "stream",
     "text": [
      "lab mouse - lab_mouse\n"
     ]
    }
   ],
   "source": [
    "class Mouse:\n",
    "    pop = 0 \n",
    "    \n",
    "    def __init__(self, name):\n",
    "        Mouse.pop += 1 \n",
    "        self.name = name\n",
    "        \n",
    "    def __str__(self):\n",
    "        return \"mouse - \" + self.name\n",
    "\n",
    "class LabMouse(Mouse):\n",
    "    def __str__(self):\n",
    "        return \"lab \" + super().__str__()   # that super refers to our super class (Mouse)\n",
    "\n",
    "lab_mouse = LabMouse('lab_mouse') # Since we added an init in our parent class we must supply the necessary instance variable / argument \n",
    "print(lab_mouse)"
   ],
   "metadata": {
    "collapsed": false,
    "ExecuteTime": {
     "end_time": "2023-10-07T04:52:10.120891900Z",
     "start_time": "2023-10-07T04:52:10.104877700Z"
    }
   }
  },
  {
   "cell_type": "code",
   "execution_count": 35,
   "outputs": [
    {
     "name": "stdout",
     "output_type": "stream",
     "text": [
      "lab mouse - new_lab_mouse 2\n"
     ]
    }
   ],
   "source": [
    "# Automatic Inheritance \n",
    "second_lab_mouse = LabMouse('new_lab_mouse')\n",
    "print(second_lab_mouse, second_lab_mouse.pop)"
   ],
   "metadata": {
    "collapsed": false,
    "ExecuteTime": {
     "end_time": "2023-10-07T04:52:31.129868400Z",
     "start_time": "2023-10-07T04:52:31.113355200Z"
    }
   }
  },
  {
   "cell_type": "markdown",
   "source": [
    "## lets talk about override inheritance "
   ],
   "metadata": {
    "collapsed": false
   }
  },
  {
   "cell_type": "code",
   "execution_count": 37,
   "outputs": [
    {
     "name": "stdout",
     "output_type": "stream",
     "text": [
      "Ancient Mouser: Caesar\n"
     ]
    }
   ],
   "source": [
    "# new method/class vari/instance var of same name as superclass will OVERRIDE \n",
    "class AncientMouse(Mouse):\n",
    "    def __str__(self):\n",
    "        return 'Ancient Mouser: ' + self.name # look we're using self.name from the parent class in the constructor and instead of returning Mouse class str we're using this value \n",
    "    \n",
    "mus = AncientMouse(\"Caesar\")\n",
    "print(mus)"
   ],
   "metadata": {
    "collapsed": false,
    "ExecuteTime": {
     "end_time": "2023-10-07T04:59:28.036683100Z",
     "start_time": "2023-10-07T04:59:28.027174900Z"
    }
   }
  },
  {
   "cell_type": "markdown",
   "source": [
    "## Try blocks & Advanced Exception handling with assert, else and finally"
   ],
   "metadata": {
    "collapsed": false
   }
  },
  {
   "cell_type": "code",
   "execution_count": 38,
   "outputs": [
    {
     "name": "stdout",
     "output_type": "stream",
     "text": [
      "success done\n"
     ]
    }
   ],
   "source": [
    "try:\n",
    "    assert __name__ == \"__main__\" # makes sure the condition is met or raises AssertionError\n",
    "except:\n",
    "    print(\"fail\", end=' ') # wille execute if theres a raised exception\n",
    "else:\n",
    "    print(\"success\", end=' ') # will ONLY execute if try passes \n",
    "finally:\n",
    "    print(\"done\") # will ALWAYS execute regardless of condition or errs\n"
   ],
   "metadata": {
    "collapsed": false,
    "ExecuteTime": {
     "end_time": "2023-10-07T05:07:12.204496800Z",
     "start_time": "2023-10-07T05:07:12.163460400Z"
    }
   }
  },
  {
   "cell_type": "code",
   "execution_count": null,
   "outputs": [],
   "source": [],
   "metadata": {
    "collapsed": false
   }
  }
 ],
 "metadata": {
  "kernelspec": {
   "display_name": "Python 3 (ipykernel)",
   "language": "python",
   "name": "python3"
  },
  "language_info": {
   "codemirror_mode": {
    "name": "ipython",
    "version": 3
   },
   "file_extension": ".py",
   "mimetype": "text/x-python",
   "name": "python",
   "nbconvert_exporter": "python",
   "pygments_lexer": "ipython3",
   "version": "3.11.4"
  }
 },
 "nbformat": 4,
 "nbformat_minor": 4
}
