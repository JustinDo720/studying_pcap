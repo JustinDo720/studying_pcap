{
 "cells": [
  {
   "cell_type": "markdown",
   "source": [
    "## Exam Block #4 - Object-Oriented Programming\n",
    "- first attempt: 64% **failed** "
   ],
   "metadata": {
    "collapsed": false
   },
   "id": "fa959f31a6c8460b"
  },
  {
   "cell_type": "markdown",
   "source": [
    "Objects **DONT** always have the exact same set of attributes\n",
    "\n",
    "But here are some truth about OOP \n",
    "- Encapsulation hides certain class trait \n",
    "- constructor is part of a class that build new objects"
   ],
   "metadata": {
    "collapsed": false
   },
   "id": "a3cb063ccbe7b929"
  },
  {
   "cell_type": "code",
   "execution_count": 1,
   "outputs": [
    {
     "name": "stdout",
     "output_type": "stream",
     "text": [
      "True\n"
     ]
    }
   ],
   "source": [
    "class Tin:\n",
    "    label = \"Soup\" # also note that different instances could change the overall label variable BUT it will ALWAYS be the same for all classes regardless of change\n",
    "    \n",
    "    def __init__(self, prefix):\n",
    "        self.name = prefix + \" \" + Tin.label # when access within class we need to specify Class.class_var\n",
    "        \n",
    "\n",
    "c1 = Tin(\"Tomato\")\n",
    "c2 = Tin(\"Chicken\")\n",
    "\n",
    "# We thought accessing Class Var was with this syntax: obj._ClassName_class_var but its not the case its only with priv var\n",
    "print(c1.label == c2.label) # since label is not a private var we could access it like this"
   ],
   "metadata": {
    "collapsed": false,
    "ExecuteTime": {
     "end_time": "2023-10-12T13:00:55.725092800Z",
     "start_time": "2023-10-12T13:00:55.715584600Z"
    }
   },
   "id": "df79fa8f94c9e25a"
  },
  {
   "cell_type": "markdown",
   "source": [
    "Let's talk about `__dict__`\n",
    "\n",
    "- `class_obj.__dict__` does not have methods and class var just the constructor\n",
    "    - `ClassItself.__dict__` does\n",
    "- `__dict__` is included in `__dict__`\n",
    "\n",
    "For instance:\n",
    "```python\n",
    "class Collection: \n",
    "    stamps =  2\n",
    "\n",
    "    def __init__(self, stuff):\n",
    "        self.stuff = stuff \n",
    "\n",
    "    def dispose(self):\n",
    "        del self.stuff\n",
    "\n",
    "binder = Collection(1)\n",
    "binder.dispose()\n",
    "```\n",
    "'stamps' will be in `Collection.__dict__` but not in `binder.__dict__` in fact since we removed binder using dispose method 'stuff' is no longer in `binder.__dict__` leaving `__dict__` to be empty for binder \n",
    "- aside from this `Collection.__dict__` includes the methods and class variables which is why these two have different `len()`\n",
    "- this means that `Class.__dict__['method']` will exist but `object.__dict__['method']` doesnt "
   ],
   "metadata": {
    "collapsed": false
   },
   "id": "24e9b3a5fb2f942c"
  },
  {
   "cell_type": "markdown",
   "source": [
    "Two ways to access **private variables**\n",
    "- `object._ClassName__privatevar`\n",
    "- `ClassName._ClassName__privatevar`\n",
    "\n",
    "however; when working with **private methods** \n",
    "- We could only access it with the object \n",
    "- `object._ClassName__privateMethod`"
   ],
   "metadata": {
    "collapsed": false
   },
   "id": "82033b72ea522c4f"
  },
  {
   "cell_type": "markdown",
   "source": [
    "`__bases__` are built-in dunder class property \n",
    "\n",
    "It always returns a tuple contain information about **the direct** superclass"
   ],
   "metadata": {
    "collapsed": false
   },
   "id": "53127585e84e4ae8"
  },
  {
   "cell_type": "code",
   "execution_count": 3,
   "outputs": [
    {
     "name": "stdout",
     "output_type": "stream",
     "text": [
      "True False\n"
     ]
    }
   ],
   "source": [
    "class Ceil:\n",
    "    Token = 1 \n",
    "    \n",
    "    def get_token(self):\n",
    "        return 1 \n",
    "    \n",
    "    \n",
    "class Floor(Ceil):\n",
    "    def get_token(self):\n",
    "        return 2 \n",
    "    \n",
    "    def set_token(self):\n",
    "        pass \n",
    "\n",
    "\n",
    "holder = Floor()\n",
    "# our holder object does have an attribute Token because it's class var from Ceil (the parent class) accessible with holder.Token \n",
    "# Ceil, the parent class, does not have access to our child method \"set_token\" which why its false\n",
    "print(hasattr(holder, \"Token\"), hasattr(Ceil, \"set_token\")) "
   ],
   "metadata": {
    "collapsed": false,
    "ExecuteTime": {
     "end_time": "2023-10-12T13:23:35.376805900Z",
     "start_time": "2023-10-12T13:23:35.362795300Z"
    }
   },
   "id": "dbac9899e3a202c9"
  },
  {
   "cell_type": "markdown",
   "source": [
    "The Instance of a Parent class \n",
    "\n",
    "Given *Business* is a child class of *Economy*:\n",
    "using `isinstance(obj, class)` => an object **initialized with the Business class (child class** will be an instance of the parent class\n",
    "\n",
    "**however**; an object **initialized with the Economy class (parent class** will *NOT* be an instance of the child class"
   ],
   "metadata": {
    "collapsed": false
   },
   "id": "76aeb6ec0507d267"
  },
  {
   "cell_type": "markdown",
   "source": [
    "MRO (Method Resolution Order) is a big deal \n",
    "- If the method or attribute doesnt exist it goes to the parent class / subparent and eventually to the root / base class.\n",
    "- With multi-inheritance \n",
    "    -   it will always once back and use values between the inheritance prioritizing the positional argument / inheritance \n",
    "\n",
    "```python\n",
    "class Alpha:\n",
    "    value = \"Alpha\" \n",
    "\n",
    "    def say(self):\n",
    "        return self.value.lower()\n",
    "\n",
    "class Beta(Alpha):\n",
    "    value = \"Beta\" # 6) value will be Beta.upper() => \"BETA\" as output \n",
    "\n",
    "\n",
    "class Gamma(Alpha):\n",
    "    # 3) say exists so let's run this function\n",
    "    def say(self):\n",
    "        return self.value.upper() # 4) you'd think value would follow Alpha BUT \n",
    "\n",
    "\n",
    "class Delta(Gamma, Beta): # 5) Beta is the second inheritnace therefore \n",
    "    pass # 2) checks if there's a say() method which doesnt exist so it goes to the first Parent class --> Gamma \n",
    "\n",
    "d = Delta() # 1) let's follow d.say()\n",
    "b = Beta()\n",
    "``` "
   ],
   "metadata": {
    "collapsed": false
   },
   "id": "858672963a9551a7"
  },
  {
   "cell_type": "code",
   "execution_count": 4,
   "outputs": [
    {
     "name": "stdout",
     "output_type": "stream",
     "text": [
      "Alpha\n"
     ]
    }
   ],
   "source": [
    "# Similar with MRO \n",
    "class Team:\n",
    "    # 3) Goes to team because it's the parent class \n",
    "    def show_ID(self): # 4) show_ID exists so lets run the function \n",
    "        print(self.get_ID()) # 5) interestingly it runs self.get_ID() which exists in the initialized class\n",
    "        \n",
    "    def get_ID(self):\n",
    "        return \"anonymous\"\n",
    "    \n",
    "\n",
    "class A(Team):\n",
    "    # 2) a object is looking for show_ID() but the method DNE\n",
    "    def get_ID(self): # runs this one (priority) over Team's get_ID function\n",
    "        return \"Alpha\"\n",
    "    \n",
    "a = A()\n",
    "a.show_ID() # 1) starting here "
   ],
   "metadata": {
    "collapsed": false,
    "ExecuteTime": {
     "end_time": "2023-10-12T13:49:07.712946200Z",
     "start_time": "2023-10-12T13:49:07.689926200Z"
    }
   },
   "id": "495be75c92840cbc"
  },
  {
   "cell_type": "markdown",
   "source": [
    "**Legal** declarations \n",
    "\n",
    "```python\n",
    "class Top:\n",
    "    pass \n",
    "\n",
    "\n",
    "class Left(Top):\n",
    "    pass \n",
    "\n",
    "class Right(Top):\n",
    "    pass \n",
    "```\n",
    "\n",
    "Given this Hierarchy and declaring multi-inheritance:\n",
    "- we **CANNOT** inherit from the highest root/parent class, in this case its Top, and then inherit another class \n",
    "- therefore these two would work\n",
    "    - ```python\n",
    "      class Bottom(Left, Right):\n",
    "        pass \n",
    "      \n",
    "      # and \n",
    "      \n",
    "      class Bottom(Left, Top):\n",
    "        pass\n",
    "      ``` \n",
    "      "
   ],
   "metadata": {
    "collapsed": false
   },
   "id": "7108fc66958de880"
  },
  {
   "cell_type": "code",
   "execution_count": null,
   "outputs": [],
   "source": [],
   "metadata": {
    "collapsed": false
   },
   "id": "6854c6f440e63133"
  }
 ],
 "metadata": {
  "kernelspec": {
   "display_name": "Python 3",
   "language": "python",
   "name": "python3"
  },
  "language_info": {
   "codemirror_mode": {
    "name": "ipython",
    "version": 2
   },
   "file_extension": ".py",
   "mimetype": "text/x-python",
   "name": "python",
   "nbconvert_exporter": "python",
   "pygments_lexer": "ipython2",
   "version": "2.7.6"
  }
 },
 "nbformat": 4,
 "nbformat_minor": 5
}
