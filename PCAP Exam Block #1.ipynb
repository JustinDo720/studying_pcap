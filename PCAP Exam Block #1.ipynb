{
 "cells": [
  {
   "cell_type": "markdown",
   "source": [
    "## Exam Block #1 Practice Questions - Modules and Packages \n",
    "\n",
    "**First Attempt: 71% PASSED**"
   ],
   "metadata": {
    "collapsed": false
   },
   "id": "ce97322c9048a14f"
  },
  {
   "cell_type": "markdown",
   "source": [
    "### `f()` is the function from module `m` which is part of package `p`\n",
    "\n",
    "```python\n",
    "from p.m import f \n",
    "\n",
    "f() # we can use the function like so \n",
    "``` \n",
    "\n",
    "however, thats not the only way \n",
    "\n",
    "```python\n",
    "import p.m \n",
    "\n",
    "# we want to import function f() from the m module which is part of package p\n",
    "\n",
    "p.m.f()\n",
    "```"
   ],
   "metadata": {
    "collapsed": false
   },
   "id": "b6686ba4d3fbabd1"
  },
  {
   "cell_type": "markdown",
   "source": [
    "### What's true about `dir()` \n",
    "\n",
    "We thought: \n",
    "- it is a method that can be invoked from within a module in order to obtain the module's contain \n",
    "\n",
    "but:\n",
    "- **It is a function which can be invoked with a module passed as an argument in order to obtain the module content**\n",
    "\n",
    "Why?\n",
    "You're right its a method/function BUT... `dir()` is a **BUILT-IN** function which means it cannot be invoked within a module in fact it *DOES* take an argument to obtain the module's content \n",
    "\n",
    "```python\n",
    "import random \n",
    "\n",
    "print(dir(random)) \n",
    "\n",
    "# confused with random.__dict__\n",
    "```\n",
    "\n",
    "\n"
   ],
   "metadata": {
    "collapsed": false
   },
   "id": "fb83698139caf3c3"
  },
  {
   "cell_type": "markdown",
   "source": [
    "### Sys.path \n",
    "\n",
    "We thought: \n",
    "- It is a string which contains the name of the OS Current Working Directory/Folder \n",
    "\n",
    "but: \n",
    "- it is a list of strings which indicates all directories/folders scanned by  python to find a specific module \n",
    "\n",
    "Why?\n",
    "sys.path is a list not just a string of all directories and folders "
   ],
   "metadata": {
    "collapsed": false
   },
   "id": "aa0ac24477192c73"
  },
  {
   "cell_type": "code",
   "execution_count": 13,
   "outputs": [
    {
     "data": {
      "text/plain": "-1"
     },
     "execution_count": 13,
     "metadata": {},
     "output_type": "execute_result"
    }
   ],
   "source": [
    "import math \n",
    "\n",
    "math.floor(-1.5) # -2 \n",
    "# however \n",
    "math.floor(1.5) # 1\n",
    "\n",
    "# This is opposite to math.ceil when dealing with negatives \n",
    "math.ceil(1.2) # 2 \n",
    "math.ceil(-1.5) # -1\n",
    "\n",
    "# .floor and .ceil works based on round up or down where decimals dont matter"
   ],
   "metadata": {
    "collapsed": false,
    "ExecuteTime": {
     "end_time": "2023-10-10T09:25:28.425063400Z",
     "start_time": "2023-10-10T09:25:28.407548200Z"
    }
   },
   "id": "ba9873367d8777b4"
  },
  {
   "cell_type": "markdown",
   "source": [
    "### True Statements about __name__ and __init__.py \n",
    "\n",
    "`__name__`\n",
    "- its a string containing the module's name --> __main__ if the code can run standalone or if its imported modules (module name instead of __main__)\n",
    "- To dumb it down:\n",
    "    - String will be __main__ if module has **NOT** been imported (can import others)\n",
    "    - String will be module_name if the module **HAS** been imported\n",
    "\n",
    "`__init__.py`\n",
    "- Mark dir/folder containing a python package and initialize package \n",
    "- Presence informs Pythong that the dir should be treated as a package \n",
    "\n",
    "--- \n",
    "\n",
    "My common misconception:\n",
    "- .pby contains semi complied byte-code \n",
    "\n",
    "The actual concept:  \n",
    "- .pyc is a semi-complied Python Byte-code"
   ],
   "metadata": {
    "collapsed": false
   },
   "id": "d89fcc57ab58b4b6"
  },
  {
   "cell_type": "markdown",
   "source": [
    "## Ending Notes (including questions that we got correct)\n",
    "\n",
    "### Python package search \n",
    "It searches the direction from which the code has been run **FIRST**\n",
    "\n",
    "### random.seed()\n",
    "```python\n",
    "import random \n",
    "\n",
    "random.seed(0)\n",
    "x = random.choice([1,2])\n",
    "random.seed(0)\n",
    "y = random.choice([1,2])\n",
    "print(x-y)\n",
    "```\n",
    "With the code above, random.seed(0) sets the same value which means both choices are the same (random.seed(0) set twice)"
   ],
   "metadata": {
    "collapsed": false
   },
   "id": "db87c29919761245"
  },
  {
   "cell_type": "code",
   "execution_count": 13,
   "outputs": [],
   "source": [],
   "metadata": {
    "collapsed": false,
    "ExecuteTime": {
     "end_time": "2023-10-10T09:25:28.439075600Z",
     "start_time": "2023-10-10T09:25:28.414554800Z"
    }
   },
   "id": "3bef199767cfab9d"
  }
 ],
 "metadata": {
  "kernelspec": {
   "display_name": "Python 3",
   "language": "python",
   "name": "python3"
  },
  "language_info": {
   "codemirror_mode": {
    "name": "ipython",
    "version": 2
   },
   "file_extension": ".py",
   "mimetype": "text/x-python",
   "name": "python",
   "nbconvert_exporter": "python",
   "pygments_lexer": "ipython2",
   "version": "2.7.6"
  }
 },
 "nbformat": 4,
 "nbformat_minor": 5
}
