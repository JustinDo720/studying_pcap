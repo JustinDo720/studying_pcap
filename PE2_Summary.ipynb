{
 "cells": [
  {
   "cell_type": "code",
   "execution_count": 1,
   "id": "initial_id",
   "metadata": {
    "collapsed": true,
    "ExecuteTime": {
     "end_time": "2023-10-08T07:03:28.704113500Z",
     "start_time": "2023-10-08T07:03:28.696105700Z"
    }
   },
   "outputs": [
    {
     "name": "stdout",
     "output_type": "stream",
     "text": [
      "a\n"
     ]
    }
   ],
   "source": [
    "try: \n",
    "    raise Exception \n",
    "except BaseException:\n",
    "    print('a')\n",
    "except Exception:\n",
    "    print('b') # we chose b\n",
    "except: \n",
    "    print('c')"
   ]
  },
  {
   "cell_type": "code",
   "execution_count": 4,
   "outputs": [
    {
     "name": "stdout",
     "output_type": "stream",
     "text": [
      "False\n"
     ]
    }
   ],
   "source": [
    "class A:\n",
    "    A = 1 \n",
    "    def __init__(self):\n",
    "        self.a = 0 \n",
    "        \n",
    "print(hasattr(A, 'a')) # we thought it was True but its false because the our class doesnt have an instance var"
   ],
   "metadata": {
    "collapsed": false,
    "ExecuteTime": {
     "end_time": "2023-10-08T07:12:12.196550900Z",
     "start_time": "2023-10-08T07:12:12.185041900Z"
    }
   },
   "id": "334269116382e702"
  },
  {
   "cell_type": "code",
   "execution_count": 5,
   "outputs": [
    {
     "name": "stdout",
     "output_type": "stream",
     "text": [
      "Hello There\n",
      "\n",
      "I am a testing file\n",
      "\n",
      "Here to see the output\n",
      "\n",
      "Of thy code\n"
     ]
    }
   ],
   "source": [
    "for x in open('testing_file.txt', 'rt'):\n",
    "    print(x) # read the file line by line"
   ],
   "metadata": {
    "collapsed": false,
    "ExecuteTime": {
     "end_time": "2023-10-08T07:13:26.785506100Z",
     "start_time": "2023-10-08T07:13:26.768990300Z"
    }
   },
   "id": "230238f60a6c15d3"
  },
  {
   "cell_type": "code",
   "execution_count": 7,
   "outputs": [
    {
     "name": "stdout",
     "output_type": "stream",
     "text": [
      "28 days, 22:00:00\n"
     ]
    }
   ],
   "source": [
    "from datetime import timedelta \n",
    "\n",
    "delta = timedelta(weeks = 1, days = 7, hours = 11)\n",
    "# delta # datetime.timedelta(days=14, seconds=39600)\n",
    "print(delta * 2) # days were 14 so we times 2 in days not individual componenets like what we chose (2 weeks, 14 days, 22 hours)"
   ],
   "metadata": {
    "collapsed": false,
    "ExecuteTime": {
     "end_time": "2023-10-08T07:36:27.710964200Z",
     "start_time": "2023-10-08T07:36:27.699454500Z"
    }
   },
   "id": "dc4d15e87713e638"
  },
  {
   "cell_type": "code",
   "execution_count": 9,
   "outputs": [
    {
     "name": "stdout",
     "output_type": "stream",
     "text": [
      "4 days, 11:27:22\n"
     ]
    }
   ],
   "source": [
    "from datetime import datetime\n",
    "\n",
    "d1 = datetime(2019, 11, 27, 11, 27, 22)\n",
    "d2 = datetime(2019, 11, 27, 0, 0, 0)\n",
    "print(d1-d2) # if days it returns days, time  but if days and years are the same it'll just return timme (not 0 days, time)"
   ],
   "metadata": {
    "collapsed": false,
    "ExecuteTime": {
     "end_time": "2023-10-08T07:38:33.018718200Z",
     "start_time": "2023-10-08T07:38:33.005205900Z"
    }
   },
   "id": "15d97752185ffe1e"
  },
  {
   "cell_type": "markdown",
   "source": [
    "`for line in open('text.txt', 'rt'):`\n",
    "\n",
    "The code above is **valid** BECAUSE it prints line by line"
   ],
   "metadata": {
    "collapsed": false
   },
   "id": "4d58b9c54033b133"
  },
  {
   "cell_type": "markdown",
   "source": [
    "```python\n",
    "import os \n",
    "os.uname()\n",
    "```\n",
    "\n",
    "^ no longer works but it was used to name the operating system name and be a hardware identifier \n"
   ],
   "metadata": {
    "collapsed": false
   },
   "id": "393a8f93cc95cb66"
  },
  {
   "cell_type": "code",
   "execution_count": 13,
   "outputs": [
    {
     "name": "stdout",
     "output_type": "stream",
     "text": [
      "__main__\n"
     ]
    }
   ],
   "source": [
    "print(__name__)\n",
    "\n",
    "# __name__ will always give __main__ given that it is run directly,"
   ],
   "metadata": {
    "collapsed": false,
    "ExecuteTime": {
     "end_time": "2023-10-08T07:51:44.007158100Z",
     "start_time": "2023-10-08T07:51:43.997647900Z"
    }
   },
   "id": "bc9a4efe93044374"
  },
  {
   "cell_type": "markdown",
   "source": [
    "## checking the pip version \n",
    "\n",
    "`pip --version` works \n",
    "`pip3 --version` works"
   ],
   "metadata": {
    "collapsed": false
   },
   "id": "91bf60d78ff1763f"
  },
  {
   "cell_type": "code",
   "execution_count": null,
   "outputs": [],
   "source": [],
   "metadata": {
    "collapsed": false
   },
   "id": "c83678540e991102"
  }
 ],
 "metadata": {
  "kernelspec": {
   "display_name": "Python 3",
   "language": "python",
   "name": "python3"
  },
  "language_info": {
   "codemirror_mode": {
    "name": "ipython",
    "version": 2
   },
   "file_extension": ".py",
   "mimetype": "text/x-python",
   "name": "python",
   "nbconvert_exporter": "python",
   "pygments_lexer": "ipython2",
   "version": "2.7.6"
  }
 },
 "nbformat": 4,
 "nbformat_minor": 5
}
