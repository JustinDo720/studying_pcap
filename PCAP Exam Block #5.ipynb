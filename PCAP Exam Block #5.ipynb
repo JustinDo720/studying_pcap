{
 "cells": [
  {
   "cell_type": "markdown",
   "source": [
    "## Exam Block #5 - Miscellaneous\n",
    "- First Attempt: 73% **passed**"
   ],
   "metadata": {
    "collapsed": false
   },
   "id": "187bf7bf14469c96"
  },
  {
   "cell_type": "code",
   "execution_count": 16,
   "outputs": [
    {
     "name": "stdout",
     "output_type": "stream",
     "text": [
      "2\n"
     ]
    },
    {
     "data": {
      "text/plain": "[1, 2]"
     },
     "execution_count": 16,
     "metadata": {},
     "output_type": "execute_result"
    }
   ],
   "source": [
    "foo = [x for x in range(4)]\n",
    "spam = [x for x in foo[1:-1]] # we made our mistake to think that 1:-1 was going backwards leaving us with 0,1 but actually -1 is where we stopped which is the last digit so its 1,2 given that the last digit is 3\n",
    "print(spam[1])\n",
    "foo[1:-1]"
   ],
   "metadata": {
    "collapsed": false,
    "ExecuteTime": {
     "end_time": "2023-10-12T12:48:16.490036600Z",
     "start_time": "2023-10-12T12:48:16.447500500Z"
    }
   },
   "id": "af3da7e5e95833b1"
  },
  {
   "cell_type": "code",
   "execution_count": 17,
   "outputs": [
    {
     "data": {
      "text/plain": "'B'"
     },
     "execution_count": 17,
     "metadata": {},
     "output_type": "execute_result"
    }
   ],
   "source": [
    "vect = [\"alpha\", \"bravo\", \"charlie\"]\n",
    "new_vect = map(lambda s:s[0].upper(), vect) # our lambda function would return the s[0].upper() meaning each initial letters as capital letters\n",
    "list(new_vect)[1]"
   ],
   "metadata": {
    "collapsed": false,
    "ExecuteTime": {
     "end_time": "2023-10-12T12:48:16.491037600Z",
     "start_time": "2023-10-12T12:48:16.455507100Z"
    }
   },
   "id": "98864a4b039d2ad4"
  },
  {
   "cell_type": "markdown",
   "source": [
    "## Final Notes on things we got right\n",
    "\n",
    "Errno \n",
    "allows you to diagnose **input/output** errors in python\n",
    "\n",
    "---\n",
    "\n",
    "open()\n",
    "- open() **raises an exception** when the operation fails like a non_existing_file where IOError catches that \n",
    "\n",
    "---\n",
    "\n",
    "stdin, stdout, stderr \n",
    "all names that were introduced in the first Unix version as they are **the names of pre-opened streams**\n",
    "\n",
    "---\n",
    "\n",
    "embedded functions \n",
    "- say we have a nested function... we could access that function by setting a variable to our parent function then providing the appropriate argument \n",
    "    - ``` python\n",
    "      def quote(quo):\n",
    "        def embded(str):\n",
    "            return quo + str + quo \n",
    "      return embded\n",
    "      \n",
    "      dblq = quote('\"') argument for quo parameter\n",
    "      print(dblq(\"String Value\")) we called our embded function in the quote function\n",
    "      ```\n",
    "\n",
    "---\n",
    "\n",
    "Lambda **Returns Value!!**\n",
    "- in several instances we see that lambda does not require us to use the return statement \n",
    "- it just returns the final line of code \n",
    "    - `lambda x,y: list_var[x:y+1]` here it will return a sliced list depending on x and y var  \n",
    "- Lambda returns None regardless of arg val \n",
    "- the required arguments **Must not** be in () like `lambda (x,y): # insert code here`"
   ],
   "metadata": {
    "collapsed": false
   },
   "id": "63de9c682ecf899a"
  },
  {
   "cell_type": "code",
   "execution_count": 18,
   "outputs": [
    {
     "name": "stdout",
     "output_type": "stream",
     "text": [
      "[4]\n"
     ]
    }
   ],
   "source": [
    "l = [x for x in range(1,10,3)] # range(start,stop,skip) \n",
    "# start - 1; skip 3 - 4; skip 3 - 7; skip 3 - 10 but 10 is stopped\n",
    "print(list(filter(lambda x: x%2==0, l))) # filter and map returns an object make sure to list() it "
   ],
   "metadata": {
    "collapsed": false,
    "ExecuteTime": {
     "end_time": "2023-10-12T12:48:16.491037600Z",
     "start_time": "2023-10-12T12:48:16.461511900Z"
    }
   },
   "id": "40c8e887a433db16"
  }
 ],
 "metadata": {
  "kernelspec": {
   "display_name": "Python 3",
   "language": "python",
   "name": "python3"
  },
  "language_info": {
   "codemirror_mode": {
    "name": "ipython",
    "version": 2
   },
   "file_extension": ".py",
   "mimetype": "text/x-python",
   "name": "python",
   "nbconvert_exporter": "python",
   "pygments_lexer": "ipython2",
   "version": "2.7.6"
  }
 },
 "nbformat": 4,
 "nbformat_minor": 5
}
