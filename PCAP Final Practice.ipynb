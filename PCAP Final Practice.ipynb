{
 "cells": [
  {
   "cell_type": "markdown",
   "source": [
    "## Final Practice Exam \n",
    "first attempt: 80% **passed**"
   ],
   "metadata": {
    "collapsed": false
   },
   "id": "7641daac3c04fd93"
  },
  {
   "cell_type": "markdown",
   "source": [
    "Hardware Platform uses x86 or arm CPU?\n",
    "- platform() and processor() \n"
   ],
   "metadata": {
    "collapsed": false
   },
   "id": "5e8eb50909bfa1e3"
  },
  {
   "cell_type": "markdown",
   "source": [
    "UTF-8 and ASCII \n",
    "- `\\n` is used to encode a newline not `/n` \n",
    "- Python accepts UTF-8 encoded\n",
    "- ASCII is a subset of UNICODE "
   ],
   "metadata": {
    "collapsed": false
   },
   "id": "514df2a7c535a80e"
  },
  {
   "cell_type": "markdown",
   "source": [
    "Encapsulation and Class existence \n",
    "- Encapsulation allows you to hide some class traits \n",
    "- Class may exist **without** its objects ... but objects **cannot exist** without its class\n"
   ],
   "metadata": {
    "collapsed": false
   },
   "id": "de5c1a5f4d66a974"
  },
  {
   "cell_type": "code",
   "execution_count": 1,
   "outputs": [
    {
     "data": {
      "text/plain": "'ZWEI'"
     },
     "execution_count": 1,
     "metadata": {},
     "output_type": "execute_result"
    }
   ],
   "source": [
    "class Un:\n",
    "    value = \"Ein\"\n",
    "    \n",
    "    def say(self):\n",
    "        return self.value.lower() \n",
    "\n",
    "\n",
    "class Deux(Un):\n",
    "    value = \"Zwei\"\n",
    "    \n",
    "\n",
    "class Troi(Un):\n",
    "    def say(self):\n",
    "        return self.value.upper()\n",
    "    \n",
    "\n",
    "class Quatre(Troi, Deux):\n",
    "    pass\n",
    "\n",
    "d = Quatre()\n",
    "\n",
    "d.say() # the system is wrong lol Troi is also in Quatre.__bases__ so it includes both inheritance "
   ],
   "metadata": {
    "collapsed": false,
    "ExecuteTime": {
     "end_time": "2023-10-12T16:28:00.762680200Z",
     "start_time": "2023-10-12T16:28:00.753172600Z"
    }
   },
   "id": "ef197b7f4dd4452a"
  },
  {
   "cell_type": "code",
   "execution_count": 3,
   "outputs": [
    {
     "name": "stdout",
     "output_type": "stream",
     "text": [
      "True\n"
     ]
    }
   ],
   "source": [
    "def boolean(op):\n",
    "    return op(False, True)\n",
    "\n",
    "print(boolean(lambda x,y: x if x else y)) # if False will never run \n",
    "\n",
    "x = False \n",
    "if x: \n",
    "    print(False)"
   ],
   "metadata": {
    "collapsed": false,
    "ExecuteTime": {
     "end_time": "2023-10-12T16:29:49.908783100Z",
     "start_time": "2023-10-12T16:29:49.898775900Z"
    }
   },
   "id": "c5dfdc6fa981cdae"
  },
  {
   "cell_type": "code",
   "execution_count": 7,
   "outputs": [
    {
     "name": "stdout",
     "output_type": "stream",
     "text": [
      "1\n"
     ]
    }
   ],
   "source": [
    "pairs = [[2,1], [-2,-1]]\n",
    "new_pairs = map(lambda p: sorted(p), pairs) # maps to every element to the function which means its doing sorted(pairs[0]) then sorted(pairs[1])\n",
    "print(list(new_pairs)[0][0])"
   ],
   "metadata": {
    "collapsed": false,
    "ExecuteTime": {
     "end_time": "2023-10-12T16:33:15.138441400Z",
     "start_time": "2023-10-12T16:33:15.127432300Z"
    }
   },
   "id": "f08f17ebb6e3312b"
  },
  {
   "cell_type": "markdown",
   "source": [
    "errno.ENOENT:\n",
    "- No file or directory "
   ],
   "metadata": {
    "collapsed": false
   },
   "id": "a338219b2d676a5f"
  }
 ],
 "metadata": {
  "kernelspec": {
   "display_name": "Python 3",
   "language": "python",
   "name": "python3"
  },
  "language_info": {
   "codemirror_mode": {
    "name": "ipython",
    "version": 2
   },
   "file_extension": ".py",
   "mimetype": "text/x-python",
   "name": "python",
   "nbconvert_exporter": "python",
   "pygments_lexer": "ipython2",
   "version": "2.7.6"
  }
 },
 "nbformat": 4,
 "nbformat_minor": 5
}
