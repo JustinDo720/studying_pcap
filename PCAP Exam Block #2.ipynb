{
 "cells": [
  {
   "cell_type": "markdown",
   "source": [
    "## Exam Block #2 - Exceptions\n",
    "- First Attempt: 57% **failed**  "
   ],
   "metadata": {
    "collapsed": false
   },
   "id": "cb8b456ab96e7e69"
  },
  {
   "cell_type": "code",
   "execution_count": 9,
   "outputs": [
    {
     "name": "stdout",
     "output_type": "stream",
     "text": [
      "-1\n"
     ]
    },
    {
     "data": {
      "text/plain": "'\\nSome Common Parent classes:\\nBaseException - Highest Base class\\nException - Base for all built in except\\nArithmeticError - numeric errors\\nLookupError - index key errors\\nTypeError - operation performed on an object with inappropriate type \\nSyntaxError - Syntax \\nAssertError - assert statement fails \\n'"
     },
     "execution_count": 9,
     "metadata": {},
     "output_type": "execute_result"
    }
   ],
   "source": [
    "x,y = 3.0, 0.0\n",
    "\n",
    "try: \n",
    "    z = x/y # Brings up a ZeroDivisionError \n",
    "except ArithmeticError: # But the ZeroDivisonError is a subclass of ArithmeticError \n",
    "    z = -1\n",
    "else:\n",
    "    z = -2 \n",
    "\n",
    "print(z)\n",
    "\n",
    "\"\"\"\n",
    "Some Common Parent classes:\n",
    "BaseException - Highest Base class\n",
    "Exception - Base for all built in except\n",
    "ArithmeticError - numeric errors\n",
    "LookupError - index key errors\n",
    "TypeError - operation performed on an object with inappropriate type \n",
    "SyntaxError - Syntax \n",
    "AssertError - assert statement fails \n",
    "\"\"\""
   ],
   "metadata": {
    "collapsed": false,
    "ExecuteTime": {
     "end_time": "2023-10-11T08:25:16.905369300Z",
     "start_time": "2023-10-11T08:25:16.891857600Z"
    }
   },
   "id": "47a86221860da790"
  },
  {
   "cell_type": "code",
   "execution_count": 10,
   "outputs": [
    {
     "name": "stdout",
     "output_type": "stream",
     "text": [
      "-1\n"
     ]
    }
   ],
   "source": [
    "def fun(x):\n",
    "    return 1 / x \n",
    "\n",
    "def mid_level(x):\n",
    "    try:\n",
    "        fun(x) # we get a ZeroDivisionError \n",
    "    except: # which brings us to this default except block\n",
    "        raise AssertionError # raising an assertionerror \n",
    "    else:\n",
    "        return 0\n",
    "    \n",
    "try:\n",
    "    x = mid_level(0)\n",
    "except Exception: # because AssertionError is a subclass of Error --> it is handled by Exception (remember exception is the second highest tier)\n",
    "    x = -1 \n",
    "except:\n",
    "    x = -2 \n",
    "    \n",
    "print(x)"
   ],
   "metadata": {
    "collapsed": false,
    "ExecuteTime": {
     "end_time": "2023-10-11T08:25:16.960417Z",
     "start_time": "2023-10-11T08:25:16.901365700Z"
    }
   },
   "id": "ecd79d157d991d9c"
  },
  {
   "cell_type": "code",
   "execution_count": 11,
   "outputs": [
    {
     "name": "stdout",
     "output_type": "stream",
     "text": [
      "-2\n"
     ]
    }
   ],
   "source": [
    "def fun(x):\n",
    "    assert x >= 0 # because x=-1 the assert fails \n",
    "    return x ** 0.5 \n",
    "\n",
    "def mid_level(x):\n",
    "    try:\n",
    "        fun(x)\n",
    "    except Error: # which enters this Error branch \n",
    "        raise # raise by itself just raises the previous Error (AssertionError) --> reraises error \n",
    "\n",
    "try:\n",
    "    x = mid_level(-1)\n",
    "except RuntimeError: # Because Assertion is NOT a subclass of Runtimeerror \n",
    "    x = -1\n",
    "except: # we go to this default except branch \n",
    "    x = -2\n",
    "\n",
    "print(x)"
   ],
   "metadata": {
    "collapsed": false,
    "ExecuteTime": {
     "end_time": "2023-10-11T08:25:16.961416700Z",
     "start_time": "2023-10-11T08:25:16.929890200Z"
    }
   },
   "id": "a790f135c4a78ccd"
  },
  {
   "cell_type": "markdown",
   "source": [
    "## Notes on Questions we got right\n",
    "\n",
    "list_var.index() function \n",
    "- Though 314e-2 is close to 3.141592 these two are **different** value which raises an ValueError \n",
    "- When we hit an exception Branch \n",
    "    - we could set it as a variable and access args which is a tuple of texts like ('3.14 is not in list',) \n",
    "    - if we print that variable alone... it will return the __str__(self) of that class unless we access a specific variable in the constructor process\n",
    "\n",
    "---\n",
    "\n",
    "Creating a custom Exception\n",
    "- If inherited from a Common Parent class (like IndexError), your class now becomes a subclass\n",
    "    - This means that if the Parent Class is within an except branch, it will run that branch  "
   ],
   "metadata": {
    "collapsed": false
   },
   "id": "b6da58291738648c"
  },
  {
   "cell_type": "code",
   "execution_count": 11,
   "outputs": [],
   "source": [],
   "metadata": {
    "collapsed": false,
    "ExecuteTime": {
     "end_time": "2023-10-11T08:25:16.961917800Z",
     "start_time": "2023-10-11T08:25:16.946404200Z"
    }
   },
   "id": "44a85c0259f88a0a"
  }
 ],
 "metadata": {
  "kernelspec": {
   "display_name": "Python 3",
   "language": "python",
   "name": "python3"
  },
  "language_info": {
   "codemirror_mode": {
    "name": "ipython",
    "version": 2
   },
   "file_extension": ".py",
   "mimetype": "text/x-python",
   "name": "python",
   "nbconvert_exporter": "python",
   "pygments_lexer": "ipython2",
   "version": "2.7.6"
  }
 },
 "nbformat": 4,
 "nbformat_minor": 5
}
